{
 "cells": [
  {
   "cell_type": "markdown",
   "metadata": {},
   "source": [
    "## Exercise 1 (notebook 2)\n",
    "\n",
    "1. Calculate the % GC and % AT content in the trna sequenceExercise 1 (notebook 2)\n",
    "\n",
    "2. Calculate the % GC and % AT content in the trna sequence"
   ]
  },
  {
   "cell_type": "code",
   "execution_count": 13,
   "metadata": {},
   "outputs": [],
   "source": [
    "trna='AAGGGCTTAGCTTAATTAAAGTGGCTGATTTGCGTTCAGTTGATGCAGAGTGGGGTTTTGCAGTCCTTA'\n",
    "A_count=trna.count('A')\n",
    "C_count=trna.count('C')\n",
    "G_count=trna.count('G')\n",
    "T_count=trna.count('T')\n",
    "def gc_content(G_count, C_count):\n",
    "    \"\"\"The function takes in the total count of G and the total count of C and returns\n",
    "    the percentage GC content\"\"\"\n",
    "    for i in trna:\n",
    "        GC_content = (trna.count('G')+ trna.count('C'))/ len(trna)*100\n",
    "        return(GC_content)\n",
    "def at_content(A_count, T_count):\n",
    "    \"\"\"The function takes in the total count of A and the total count of T and returns\n",
    "    the percentage AT content\"\"\"\n",
    "    for i in trna:\n",
    "        AT_content = (trna.count('A') + trna.count('T'))/ len(trna)*100\n",
    "        return(AT_content)\n",
    "    "
   ]
  },
  {
   "cell_type": "code",
   "execution_count": 14,
   "metadata": {},
   "outputs": [
    {
     "data": {
      "text/plain": [
       "43.47826086956522"
      ]
     },
     "execution_count": 14,
     "metadata": {},
     "output_type": "execute_result"
    }
   ],
   "source": [
    "gc_content(G_count, C_count)"
   ]
  },
  {
   "cell_type": "code",
   "execution_count": 4,
   "metadata": {},
   "outputs": [
    {
     "data": {
      "text/plain": [
       "56.52173913043478"
      ]
     },
     "execution_count": 4,
     "metadata": {},
     "output_type": "execute_result"
    }
   ],
   "source": [
    "at_content(A_count, T_count)"
   ]
  },
  {
   "cell_type": "markdown",
   "metadata": {},
   "source": [
    "## Exercise 2 (notebook 2)\n",
    "\n",
    "1. Given the following amino acid sequence (MNKMDLVADVAEKTDLSKAKATEVIDAVFA), find the first, last and the 5th amino acids in the sequence.\n",
    "2. The above amino acid is a bacterial restriction enzyme that recognizes \"TCCGGA\". Find the first restriction site in the following sequence: AAAAATCCCGAGGCGGCTATATAGGGCTCCGGAGGCGTAATATAAAA\n",
    "\n"
   ]
  },
  {
   "cell_type": "code",
   "execution_count": 15,
   "metadata": {},
   "outputs": [],
   "source": [
    "def pos_seq(seq):\n",
    "    \"\"\"The function returns the nucleotide in indices; 4,-1,0\"\"\"\n",
    "    pos = print (str(seq[0]) + (seq[4]) + (seq[-1]))\n",
    "    return pos"
   ]
  },
  {
   "cell_type": "code",
   "execution_count": 16,
   "metadata": {},
   "outputs": [
    {
     "name": "stdout",
     "output_type": "stream",
     "text": [
      "MDA\n"
     ]
    }
   ],
   "source": [
    "pos_seq('MNKMDLVADVAEKTDLSKAKATEVIDAVFA')"
   ]
  },
  {
   "cell_type": "code",
   "execution_count": 17,
   "metadata": {},
   "outputs": [],
   "source": [
    "def transcript_location(seq2):\n",
    "    \"\"\"given a restriction site sequence, the function returns the restriction site\"\"\"\n",
    "    location = seq2.find(\"TCCGGA\")\n",
    "    return location"
   ]
  },
  {
   "cell_type": "code",
   "execution_count": 18,
   "metadata": {},
   "outputs": [
    {
     "data": {
      "text/plain": [
       "27"
      ]
     },
     "execution_count": 18,
     "metadata": {},
     "output_type": "execute_result"
    }
   ],
   "source": [
    "transcript_location('AAAAATCCCGAGGCGGCTATATAGGGCTCCGGAGGCGTAATATAAAA')"
   ]
  },
  {
   "cell_type": "markdown",
   "metadata": {},
   "source": [
    "## Exercise 3 (notebook 4)\n",
    "- Using strings, lists, tuples and dictionaries concepts, find the reverse complement of AAAAATCCCGAGGCGGCTATATAGGGCTCCGGAGGCGTAATATAAAA"
   ]
  },
  {
   "cell_type": "code",
   "execution_count": 19,
   "metadata": {},
   "outputs": [],
   "source": [
    "seq = \"AAAAATCCCGAGGCGGCTATATAGGGCTCCGGAGGCGTAATATAAAA\"\n",
    "def reverse_complement(complement):\n",
    "    \"\"\"the function takes the complement and replaces it with bases\n",
    "    in the reversed sequence given then outputs a reverse complement of the given sequence \"\"\"\n",
    "    reverse_seq = \"\".join(complement.get(base, base) for base in reversed(seq))\n",
    "    return reverse_seq\n"
   ]
  },
  {
   "cell_type": "code",
   "execution_count": 20,
   "metadata": {},
   "outputs": [
    {
     "data": {
      "text/plain": [
       "'TTTTATATTACGCCTCCGGAGCCCTATATAGCCGCCTCGGGATTTTT'"
      ]
     },
     "execution_count": 20,
     "metadata": {},
     "output_type": "execute_result"
    }
   ],
   "source": [
    "reverse_complement({'A': 'T', 'C': 'G', 'G': 'C', 'T': 'A'})"
   ]
  },
  {
   "cell_type": "markdown",
   "metadata": {},
   "source": [
    "## Exercise 4 (notebook 5)\n",
    "- Expand the script in the previous cell to also manage ATM deposits"
   ]
  },
  {
   "cell_type": "code",
   "execution_count": 21,
   "metadata": {},
   "outputs": [],
   "source": [
    "def atm_transact():\n",
    "    \"\"\"given a choice, the function returns options for transaction\"\"\"\n",
    "    acountbal = 50000\n",
    "    choice = input(\"Please enter 'b' to check balance or 'd' to deposit or 'w' to withdraw: \")\n",
    "    while choice != 'q':\n",
    "        if choice.lower() in ('b', 'w', 'd'):\n",
    "            if choice.lower() == 'b':\n",
    "                print(\"Your balance is: %d\" % acountbal)\n",
    "                print(\"Anything else?\")\n",
    "                choice = input(\"Enter) b for balance, w to withdraw, or d to deposit or q to quit: \")\n",
    "                print(choice.lower())\n",
    "            elif choice.lower() == 'd':\n",
    "                deposit = float(input(\"Enter amount to be deposited:\")) \n",
    "                print(\"Amount Deposited:\", deposit)\n",
    "                acountbal = acountbal + deposit\n",
    "                print(\"your new current balance is %.2f:\" %(acountbal))\n",
    "                print(\"Anything else?\")\n",
    "                choice = input(\"Enter b for balance, w to withdraw, or d to deposit or q to quit: \")\n",
    "            else:\n",
    "                withdraw = float(input(\"Enter amount to withdraw: \"))\n",
    "                if withdraw <= acountbal:\n",
    "                    print(\"here is your: %.2f\" % withdraw)\n",
    "                    acountbal = acountbal - withdraw\n",
    "                    print(\"Anything else?\")\n",
    "                    choice = input(\"Enter b for balance, w to withdraw or q to quit: \")\n",
    "                    #choice = 'q'\n",
    "                else:\n",
    "                    print(\"You have insufficient funds: %.2f\" % acountbal)\n",
    "\n",
    "        else:\n",
    "            print(\"Wrong choice!\")\n",
    "            choice = input(\"Please enter 'b' to check balance or 'w' to withdraw: \")\n",
    "                #update to perform deposits\n",
    "                #give statements\n"
   ]
  },
  {
   "cell_type": "code",
   "execution_count": 22,
   "metadata": {},
   "outputs": [
    {
     "name": "stdin",
     "output_type": "stream",
     "text": [
      "Please enter 'b' to check balance or 'd' to deposit or 'w' to withdraw:  b\n"
     ]
    },
    {
     "name": "stdout",
     "output_type": "stream",
     "text": [
      "Your balance is: 50000\n",
      "Anything else?\n"
     ]
    },
    {
     "name": "stdin",
     "output_type": "stream",
     "text": [
      "Enter) b for balance, w to withdraw, or d to deposit or q to quit:  q\n"
     ]
    },
    {
     "name": "stdout",
     "output_type": "stream",
     "text": [
      "q\n"
     ]
    }
   ],
   "source": [
    "atm_transact()"
   ]
  },
  {
   "cell_type": "markdown",
   "metadata": {},
   "source": [
    "## Exercise 5 (notebook 5)\n",
    "\n",
    "1. Create a while loop that starts with x = 0 and increments x until x is equal to 5. Each iteration should print to the console.\n",
    "2. Repeat the previous problem, but the loop will skip printing x = 5 to the console but will print values of x from 6 to 10.\n",
    "3. Create a for loop that prints values from 4 to 10 to the console.\n",
    "\n"
   ]
  },
  {
   "cell_type": "code",
   "execution_count": 69,
   "metadata": {},
   "outputs": [
    {
     "name": "stdout",
     "output_type": "stream",
     "text": [
      "x= 1\n",
      "x= 2\n",
      "x= 3\n",
      "x= 4\n",
      "x= 5\n"
     ]
    }
   ],
   "source": [
    "def value(number):\n",
    "    \"\"\"starts with x = 0 and increments x until x is equal to 5. \n",
    "    Then it prints it to the console\"\"\"\n",
    "    x=0\n",
    "    while x<5:\n",
    "        x+=1\n",
    "        print('x=',x)\n",
    "value(10)"
   ]
  },
  {
   "cell_type": "code",
   "execution_count": 26,
   "metadata": {},
   "outputs": [
    {
     "name": "stdout",
     "output_type": "stream",
     "text": [
      "x= 0\n",
      "x= 1\n",
      "x= 2\n",
      "x= 3\n",
      "x= 4\n",
      "x= 6\n",
      "x= 7\n",
      "x= 8\n",
      "x= 9\n"
     ]
    }
   ],
   "source": [
    "def val(num):\n",
    "    \"\"\"given a number, the function will skip printing x = 5 to the console\n",
    "    but will print values of x from 6 to 10\"\"\"\n",
    "    for x in range(num):\n",
    "        if x==5:\n",
    "            continue\n",
    "        print('x=',x)\n",
    "val(10)"
   ]
  },
  {
   "cell_type": "code",
   "execution_count": 27,
   "metadata": {},
   "outputs": [],
   "source": [
    "def num2(val2):\n",
    "    \"\"\"the function takes in a number and prints values from 4 to 10 to the console\"\"\"\n",
    "    x=0\n",
    "    for x in range(val2+1):\n",
    "        if x<4:\n",
    "            continue\n",
    "        else:\n",
    "            print(x)"
   ]
  },
  {
   "cell_type": "code",
   "execution_count": 57,
   "metadata": {},
   "outputs": [
    {
     "name": "stdout",
     "output_type": "stream",
     "text": [
      "4\n",
      "5\n",
      "6\n",
      "7\n",
      "8\n",
      "9\n",
      "10\n"
     ]
    }
   ],
   "source": [
    "num2(10)"
   ]
  },
  {
   "cell_type": "markdown",
   "metadata": {},
   "source": [
    "## Exercise 6 (notebook 6)\n",
    "Let's return to our earlier exercise: calculating %GC content. In this exercise:\n",
    "\n",
    "- Write a function percentageGC that calculates the GC content of a DNA sequence\n",
    "- The function should return the %GC content\n",
    "- The Function should return a message if the provided sequence is not DNA (This should be checked by a different function, called by your function)\n",
    "\n"
   ]
  },
  {
   "cell_type": "code",
   "execution_count": 23,
   "metadata": {},
   "outputs": [],
   "source": [
    "def percentageGC(seq):\n",
    "    \"\"\" returns the %GC content in  the given DNA\"\"\"\n",
    "    return round((seq.count('C') + seq.count('G'))/len(seq)*100)"
   ]
  },
  {
   "cell_type": "code",
   "execution_count": 24,
   "metadata": {},
   "outputs": [
    {
     "data": {
      "text/plain": [
       "43"
      ]
     },
     "execution_count": 24,
     "metadata": {},
     "output_type": "execute_result"
    }
   ],
   "source": [
    "percentageGC('AAGGGCTTAGCTTAATTAAAGTGGCTGATTTGCGTTCAGTTGATGCAGAGTGGGGTTTTGCAGTCCTTA')"
   ]
  },
  {
   "cell_type": "code",
   "execution_count": 25,
   "metadata": {},
   "outputs": [],
   "source": [
    "def test_dna(sequence):\n",
    "    \"\"\"The function tests the sequence for non_DNA bases \"\"\"\n",
    "    bases = 'ATGC'\n",
    "    status = True, \"This is a valid DNA sequence\"\n",
    "    for base in sequence:\n",
    "        if base in bases:\n",
    "            pass\n",
    "        else:\n",
    "            status = False, \"This is not a valid DNA sequence\"\n",
    "            print(\"At position\", sequence.find(base), \"invalid dna base\", base)\n",
    "    return status"
   ]
  },
  {
   "cell_type": "code",
   "execution_count": 6,
   "metadata": {},
   "outputs": [
    {
     "data": {
      "text/plain": [
       "(True, 'This is a valid DNA sequence')"
      ]
     },
     "execution_count": 6,
     "metadata": {},
     "output_type": "execute_result"
    }
   ],
   "source": [
    "test_dna('ATGC')"
   ]
  },
  {
   "cell_type": "code",
   "execution_count": 7,
   "metadata": {},
   "outputs": [
    {
     "name": "stdout",
     "output_type": "stream",
     "text": [
      "At position 0 invalid dna base M\n",
      "At position 1 invalid dna base N\n",
      "At position 3 invalid dna base P\n",
      "At position 4 invalid dna base K\n"
     ]
    },
    {
     "data": {
      "text/plain": [
       "(False, 'This is not a valid DNA sequence')"
      ]
     },
     "execution_count": 7,
     "metadata": {},
     "output_type": "execute_result"
    }
   ],
   "source": [
    "test_dna('MNTPK')"
   ]
  },
  {
   "cell_type": "markdown",
   "metadata": {},
   "source": [
    "## Exercise 1 (notebook 7)\n",
    "Write a function the reads the file (humchr.txt) and writes to another file (gene_names.txt) a clean list of gene names.\n"
   ]
  },
  {
   "cell_type": "code",
   "execution_count": 1,
   "metadata": {},
   "outputs": [],
   "source": [
    "def write2file(gene_list, out_file):\n",
    "    \"\"\"\n",
    "    Takes a gene list and writes the output to file\n",
    "    \"\"\"\n",
    "    with open(out_file, 'w') as outfile:\n",
    "        outfile.write('\\n'.join(gene_list))\n",
    "\n",
    "def remove_empty(gene_list):\n",
    "    \"\"\"\n",
    "    Given a gene list, removes items\n",
    "    that start with dash (empty)\n",
    "    \"\"\"\n",
    "    tag = True\n",
    "    while tag:\n",
    "        try:\n",
    "            gene_list.remove('-')\n",
    "        except ValueError:\n",
    "            tag = False\n",
    "    return gene_list\n",
    "\n",
    "def clean_genes(input_file, out_file):\n",
    "    \"\"\"\n",
    "    Given a chromosome annotation file, extract the\n",
    "    genes and write them to another file\n",
    "    \"\"\"\n",
    "    gene_list = []\n",
    "    tag = False\n",
    "    with open(input_file, 'r') as humchrx:\n",
    "        for line in humchrx:\n",
    "            if line.startswith('Gene'):\n",
    "                tag=True\n",
    "            if line == '\\n':\n",
    "                tag = False\n",
    "            if tag:\n",
    "                gene_list.append(line.split()[0])\n",
    "    #clean the gene list\n",
    "    gene_list.pop(2)\n",
    "    gene_list[0] = gene_list[0]+\"_\"+gene_list[1]\n",
    "    gene_list.pop(1)\n",
    "   \n",
    "    gene_list = remove_empty(gene_list)\n",
    "   \n",
    "    ## Writing to file\n",
    "    write2file(gene_list, out_file)\n",
    "clean_genes('./humchrx.txt', 'testing.txt')\n"
   ]
  },
  {
   "cell_type": "markdown",
   "metadata": {},
   "source": [
    "## Exercise 2 (notebook 7)\n",
    "1. Convert the function you wrote in exercise 1 into a python module. \n",
    "2. Then, import the module and use the function to read humchrx.txt file and create a gene list file.\n",
    "3. Create a stand-alone script that does all the above.\n",
    "\n"
   ]
  },
  {
   "cell_type": "code",
   "execution_count": 36,
   "metadata": {},
   "outputs": [],
   "source": [
    "import Exercise"
   ]
  },
  {
   "cell_type": "code",
   "execution_count": 38,
   "metadata": {},
   "outputs": [],
   "source": [
    "Exercise.clean_genes('humchrx.txt', 'clean.txt')"
   ]
  },
  {
   "cell_type": "code",
   "execution_count": null,
   "metadata": {},
   "outputs": [],
   "source": []
  },
  {
   "cell_type": "markdown",
   "metadata": {},
   "source": [
    "## Exercise 3 (notebook 7)\n",
    "1. Using the same concept, convert your script in exercise 1 to take command line arguments (input and output files)\n",
    "2. Using a DNA sequence read from file, answer the following questions:\n",
    "- Show that the DNA string contains only four letters.\n",
    "- In the DNA string there are regions that have a repeating letter. What is the letter and length of the longest repeating region?\n",
    "- ])\n",
    "print(\"Number of arguments: \", len(sys.argv))How many ’ATG’s are in the DNA string?\n",
    "\n"
   ]
  },
  {
   "cell_type": "code",
   "execution_count": 48,
   "metadata": {},
   "outputs": [],
   "source": [
    "def num_nuc(sequence):\n",
    "    my_list = list(sequence)\n",
    "    set_dna = set(my_list)\n",
    "    return set_dna"
   ]
  },
  {
   "cell_type": "code",
   "execution_count": 49,
   "metadata": {},
   "outputs": [
    {
     "data": {
      "text/plain": [
       "{'A', 'C', 'G', 'T'}"
      ]
     },
     "execution_count": 49,
     "metadata": {},
     "output_type": "execute_result"
    }
   ],
   "source": [
    "num_nuc('AAAGGGCTTAGCTTAATTAAAGTGGCTGATTTGCCCCCGTTCAGTTGATTTGCAGAGTGGGGTTTTGCAGTCCT')"
   ]
  },
  {
   "cell_type": "code",
   "execution_count": 3,
   "metadata": {},
   "outputs": [
    {
     "name": "stdin",
     "output_type": "stream",
     "text": [
      "please enter the DNA sequence 'AAAGGGCTTAGCTTAATTAAAGTGGCTGATTTGCCCCCGTTCAGTTGATTTGCAGAGTGGGGTTTTGCAGTCCTTA'\n"
     ]
    },
    {
     "name": "stdout",
     "output_type": "stream",
     "text": [
      "****************************************************************************************************\n",
      "C is the longest repeating letter, repeat 5 times\n"
     ]
    }
   ],
   "source": [
    "def longest_repeating_nucleotide():\n",
    "    dna_seq = input('please enter the DNA sequence')\n",
    "    A_list = [] # initialize an empty list to store repeating nucleotides\n",
    "    tag = False\n",
    "    As = [] # initialize an empty list to store repeating nucleotides that will be appended to initialized A_list above\n",
    "    for nuc in dna_seq:\n",
    "        for dna in dna_seq:\n",
    "            if dna == nuc:\n",
    "                tag = True\n",
    "                As.append(dna)\n",
    "            else:\n",
    "                if len(As) > 1:\n",
    "                    A_list.append(As)\n",
    "                As = []\n",
    "                tag = False\n",
    "    len_list = [len(x) for x in A_list]\n",
    "    long_index = len_list.index(max(len_list))\n",
    "    print('*'*100)\n",
    "    print('%s is the longest repeating letter, repeat %d times' %(A_list[long_index][0], len(A_list[long_index])))\n",
    "    \n",
    "longest_repeating_nucleotide()"
   ]
  },
  {
   "cell_type": "code",
   "execution_count": 50,
   "metadata": {},
   "outputs": [],
   "source": [
    "def count_ATGs(dna):\n",
    "    \"\"\"counts the ATG’s in a DNA string\"\"\"\n",
    "    if dna.find == -1:\n",
    "        return 'Pattern not found'\n",
    "    else:\n",
    "        return dna.count('ATG')"
   ]
  },
  {
   "cell_type": "code",
   "execution_count": 51,
   "metadata": {},
   "outputs": [
    {
     "data": {
      "text/plain": [
       "1"
      ]
     },
     "execution_count": 51,
     "metadata": {},
     "output_type": "execute_result"
    }
   ],
   "source": [
    "count_ATGs('AAAGGGCTTAGCTTAATTAAAGTGGCATGTGATTTGCCCCCGTTCAGTTGATTTGCAGAGTGGGGTTTTGCAGTCCT')"
   ]
  }
 ],
 "metadata": {
  "kernelspec": {
   "display_name": "Python 3",
   "language": "python",
   "name": "python3"
  },
  "language_info": {
   "codemirror_mode": {
    "name": "ipython",
    "version": 3
   },
   "file_extension": ".py",
   "mimetype": "text/x-python",
   "name": "python",
   "nbconvert_exporter": "python",
   "pygments_lexer": "ipython3",
   "version": "3.8.5"
  }
 },
 "nbformat": 4,
 "nbformat_minor": 4
}
