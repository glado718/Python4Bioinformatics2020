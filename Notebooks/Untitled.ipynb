{
 "cells": [
  {
   "cell_type": "code",
   "execution_count": 11,
   "metadata": {},
   "outputs": [
    {
     "name": "stdout",
     "output_type": "stream",
     "text": [
      "x is even and non-negative\n"
     ]
    }
   ],
   "source": [
    "x = 10\n",
    "if x < 0: \n",
    "    print (\"x is negative\")\n",
    "elif x % 2: \n",
    "    print (\"x is positive and odd\")\n",
    "else:\n",
    "    print( \"x is even and non-negative\")"
   ]
  },
  {
   "cell_type": "code",
   "execution_count": 18,
   "metadata": {},
   "outputs": [
    {
     "name": "stdout",
     "output_type": "stream",
     "text": [
      "hi mercy, come to my party at 2pm\n",
      "hi brenda, come to my party at 2pm\n",
      "hi gladys, come to my party at 2pm\n"
     ]
    }
   ],
   "source": [
    " names = ['mercy', 'brenda','gladys']\n",
    "for name in names:\n",
    "        invite = \"hi %s, come to my party at 2pm\" %name\n",
    "        print(invite)"
   ]
  },
  {
   "cell_type": "code",
   "execution_count": 14,
   "metadata": {},
   "outputs": [
    {
     "name": "stdout",
     "output_type": "stream",
     "text": [
      "TTTTATATTACGCCTCCGGAGCCCTATATAGCCGCCTCGGGATTTTT\n"
     ]
    }
   ],
   "source": [
    "complement={'A': 'T', 'C': 'G', 'T': 'A', 'G': 'C'}\n",
    "seq=\"AAAAATCCCGAGGCGGCTATATAGGGCTCCGGAGGCGTAATATAAAA\"\n",
    "reverse_complement= \"\".join(complement.get(base,base) for base in reversed(seq))\n",
    "print(reverse_complement)"
   ]
  },
  {
   "cell_type": "code",
   "execution_count": null,
   "metadata": {},
   "outputs": [],
   "source": [
    ".get"
   ]
  },
  {
   "cell_type": "code",
   "execution_count": null,
   "metadata": {},
   "outputs": [],
   "source": [
    "accountbal = 5000\n",
    "input(\"enter account pin :\")\n",
    "print(\"\\n1 - View Balance \\t 2 - Withdraw \\t 3 - Deposit \\t 4 - Exit \")\n",
    "selection = int(input(\"\\nEnter your selection: \"))\n",
    "\n",
    "# Function to deposite amount \n",
    "if selection == 3:\n",
    "    def deposit(accountbal): \n",
    "        amount = float(input(\"Enter amount to be deposited: \")) \n",
    "        accountbal += amount \n",
    "        return amount\n",
    "        print(\"\\n Amount Deposited:\", amount) \n",
    "        \n",
    "# Function to withdraw the amount \n",
    "if selection == 2:\n",
    "    def withdraw(accountbal): \n",
    "            amount = float(input(\"Enter amount to be withdrawn: \")) \n",
    "            accountbal >= amount\n",
    "            accountbal -= amount \n",
    "            return accountbal\n",
    "            print(\"\\n You Withdrew:\", amount) \n",
    "else: \n",
    "    print(\"\\n Insufficient balance  \") \n",
    "\n",
    "# Function to display the amount \n",
    "def display(accountbal): \n",
    "    print(\"\\n Net Available Balance =\", accountbal) \n",
    "          \n",
    "\n",
    "\n"
   ]
  },
  {
   "cell_type": "code",
   "execution_count": null,
   "metadata": {},
   "outputs": [],
   "source": [
    "withdraw(5000)"
   ]
  },
  {
   "cell_type": "code",
   "execution_count": null,
   "metadata": {},
   "outputs": [],
   "source": [
    "deposit(5000)"
   ]
  },
  {
   "cell_type": "code",
   "execution_count": null,
   "metadata": {},
   "outputs": [],
   "source": []
  }
 ],
 "metadata": {
  "kernelspec": {
   "display_name": "Python 3",
   "language": "python",
   "name": "python3"
  },
  "language_info": {
   "codemirror_mode": {
    "name": "ipython",
    "version": 3
   },
   "file_extension": ".py",
   "mimetype": "text/x-python",
   "name": "python",
   "nbconvert_exporter": "python",
   "pygments_lexer": "ipython3",
   "version": "3.8.5"
  }
 },
 "nbformat": 4,
 "nbformat_minor": 4
}
